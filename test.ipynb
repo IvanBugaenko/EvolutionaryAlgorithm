{
 "cells": [
  {
   "cell_type": "code",
   "execution_count": 14,
   "metadata": {},
   "outputs": [],
   "source": [
    "import numpy as np"
   ]
  },
  {
   "cell_type": "code",
   "execution_count": 15,
   "metadata": {},
   "outputs": [],
   "source": [
    "from __future__ import annotations\n",
    "from copy import deepcopy\n",
    "import random\n",
    "\n",
    "\n",
    "class FireFly:\n",
    "    def __init__(self, N: int) -> None:\n",
    "        \"\"\"\n",
    "        N: число городов (число вершин в графе)\n",
    "        \"\"\"\n",
    "        self.N = N\n",
    "        self.genotype = np.array([\n",
    "            np.random.randint(0, N - i) for i in range(N)\n",
    "        ])\n",
    "    \n",
    "    def __repr__(self) -> str:\n",
    "        return f'{self.genotype}'\n",
    "    \n",
    "    def __len__(self) -> int:\n",
    "        return self.N\n",
    "    \n",
    "    def __eq__(self, other: FireFly) -> bool:\n",
    "        return np.all(self.genotype == other.genotype)\n",
    "    \n",
    "    def crossing(self, brighter_firefly: FireFly) -> None:\n",
    "        \"\"\"\n",
    "        Оператор скрещивания (скрещивание будет модифицировать одну особь, которая имеет меньшую яркость)\n",
    "        \"\"\"\n",
    "        divider = random.randint(1, self.N - 1)\n",
    "        self.genotype[divider:] = brighter_firefly.genotype[divider:]\n",
    "    \n",
    "    # @staticmethod\n",
    "    # def crossing(individual1: FireFly, individual2: FireFly) -> tuple[FireFly]:\n",
    "    #     \"\"\"\n",
    "    #     Оператор скрещивания\n",
    "    #     \"\"\"\n",
    "    #     divider = random.randint(1, len(individual1) - 1)\n",
    "    #     child1, child2 = deepcopy(individual1), deepcopy(individual2)\n",
    "    #     child1.genotype[divider:], child2.genotype[divider:] = individual2.genotype[divider:], individual1.genotype[divider:]\n",
    "    #     return child1, child2\n",
    "    \n",
    "    def mutation(self) -> None:\n",
    "        \"\"\"\n",
    "        [5, 4, 3, 2, 1, 0] - I\n",
    "        ----------------------------------------\n",
    "        [4, 0, 2, 1, 1, 0] - особь p\n",
    "\n",
    "        [1, 4, 1, 1, 0, 0] - верхняя граница, сколько можно прибавить\n",
    "        [4, 0, 2, 1, 1, 0] - верхняя граница, сколько можно отнять\n",
    "        ----------------------------------------\n",
    "        [5, 4, 3, 2, 1, 0] - особь p\n",
    "\n",
    "        [0, 0, 0, 0, 0, 0] - верхняя граница, сколько можно прибавить\n",
    "        [5, 4, 3, 2, 1, 0] - верхняя граница, сколько можно отнять\n",
    "        ----------------------------------------\n",
    "        [0, 0, 0, 0, 0, 0] - особь p\n",
    "\n",
    "        [5, 4, 3, 2, 1, 0] - верхняя граница, сколько можно прибавить\n",
    "        [0, 0, 0, 0, 0, 0] - верхняя граница, сколько можно отнять\n",
    "        ----------------------------------------\n",
    "        [-p, I - p] - границы\n",
    "        \"\"\"\n",
    "        k = random.randint(0, self.N - 1)\n",
    "        left_bound = -self.genotype[k]\n",
    "        right_bound = self.N - 1 - k - self.genotype[k]\n",
    "        self.genotype[k] += random.randint(left_bound, right_bound)\n",
    "\n",
    "    def get_route(self) -> list[int]:\n",
    "        L = list(range(self.N))\n",
    "        return [L.pop(gene) for gene in self.genotype]"
   ]
  },
  {
   "cell_type": "code",
   "execution_count": 16,
   "metadata": {},
   "outputs": [],
   "source": [
    "def get_graph(path: str) -> np.ndarray:\n",
    "    with open(path, 'r') as f:\n",
    "        N = int(f.readline())\n",
    "        matrix = np.zeros((N, N))\n",
    "        for row in f.readlines():\n",
    "            v1, v2, value = row.strip().split()\n",
    "            matrix[int(v1) - 1, int(v2) - 1] = value\n",
    "            matrix[int(v2) - 1, int(v1) - 1] = value\n",
    "    return N, matrix\n"
   ]
  },
  {
   "cell_type": "code",
   "execution_count": 17,
   "metadata": {},
   "outputs": [],
   "source": [
    "from typing import Iterable\n",
    "import random\n",
    "\n",
    "\n",
    "class Environment:\n",
    "    def __init__(self, N: int, adjacency_matrix: np.ndarray, gamma: float = 0.9) -> None:\n",
    "        \"\"\"\n",
    "        adjacency_matrix: матрица смежности (определяет длину пути из городов)\n",
    "        gamma: уровень значимости привлекательности света для особей (\n",
    "            если gamma -> 0, то светлячки со схожей яркостью не будут обращать друг на друга внимание, \n",
    "            если gamma -> 1, то светлячки со схожей яркостью будут всегда обращать друг на друга внимание\n",
    "        )\n",
    "        \"\"\"\n",
    "        self.N = N\n",
    "        self.adjacency_matrix = adjacency_matrix\n",
    "        self.gamma = gamma\n",
    "    \n",
    "    def __fitness(self, individual: FireFly) -> float:\n",
    "        route = individual.get_route()\n",
    "        return self.adjacency_matrix[route[-1], route[0]] + sum([\n",
    "            self.adjacency_matrix[route[i], route[i + 1]] for i in range(len(route) - 1)\n",
    "        ])\n",
    "    \n",
    "    def __init_population(self, population_size: int) -> Iterable[FireFly]:\n",
    "        return [FireFly(self.N) for _ in range(population_size)]\n",
    "\n",
    "    def __crossing_step(self, population: Iterable[FireFly], population_size: int, mutation_probability: float) -> None:\n",
    "        for i in range(population_size):\n",
    "            for j in range(population_size):\n",
    "                if i < j:\n",
    "                    p1: FireFly = population[i]\n",
    "                    p2: FireFly = population[j]\n",
    "                    p1_fitness = self.__fitness(p1)\n",
    "                    p2_fitness = self.__fitness(p2)\n",
    "                    pairs = [\n",
    "                        (i, p1, p1_fitness), (j, p2, p2_fitness)\n",
    "                    ]\n",
    "                    min_fitness_firefly = min(pairs, key=lambda pair: pair[-1])\n",
    "                    max_fitness_firefly = max(pairs, key=lambda pair: pair[-1])\n",
    "                    if min_fitness_firefly[-1] / max_fitness_firefly[-1] < self.gamma:\n",
    "                        population[max_fitness_firefly[0]].crossing(min_fitness_firefly[1])\n",
    "                    if random.random() < mutation_probability:\n",
    "                        population[min_fitness_firefly[0]].mutation()\n",
    "                        \n",
    "    def __find_best_individual(self, population: Iterable[FireFly]) -> tuple[float, list[int]]:\n",
    "        sorted_population = sorted(\n",
    "            population, \n",
    "            key=lambda individual: self.__fitness(individual)\n",
    "        )\n",
    "        best_individual = sorted_population[0]\n",
    "        return (\n",
    "            self.__fitness(best_individual), best_individual.get_route()\n",
    "        )\n",
    "        \n",
    "\n",
    "    def get_answer(self, population_size: int, mutation_probability: float = 0.1, k_max: int = 200) -> tuple[\n",
    "        float, list[int], list[tuple[float, list[int]]]\n",
    "    ]:\n",
    "        \"\"\"\n",
    "        population_size: размер популяции светлячков\n",
    "        mutation_probability: вероятность мутации лучшей особи\n",
    "        k_max: ограничение по числу итераций алгоритма\n",
    "        \"\"\"\n",
    "        population = self.__init_population(population_size)\n",
    "\n",
    "        best_fitness, best_route = self.__find_best_individual(population)\n",
    "\n",
    "        best_list: list[tuple[float, list[int]]] = [(best_fitness, best_route)]\n",
    "\n",
    "        for _ in range(k_max):\n",
    "            self.__crossing_step(population, population_size, mutation_probability)\n",
    "            population_best_fitness, population_best_route = self.__find_best_individual(population)\n",
    "            best_list.append((population_best_fitness, population_best_route))\n",
    "            if population_best_fitness < best_fitness:\n",
    "                best_fitness = population_best_fitness\n",
    "                best_route = population_best_route\n",
    "            \n",
    "        return best_fitness, best_route, best_list"
   ]
  },
  {
   "cell_type": "code",
   "execution_count": 18,
   "metadata": {},
   "outputs": [],
   "source": [
    "N, adjacency_matrix = get_graph('data.txt')"
   ]
  },
  {
   "cell_type": "code",
   "execution_count": 33,
   "metadata": {},
   "outputs": [],
   "source": [
    "env = Environment(N, adjacency_matrix, gamma=0.9)"
   ]
  },
  {
   "cell_type": "code",
   "execution_count": 34,
   "metadata": {},
   "outputs": [],
   "source": [
    "fitness, route, history = env.get_answer(population_size=200, k_max=150)"
   ]
  },
  {
   "cell_type": "code",
   "execution_count": 35,
   "metadata": {},
   "outputs": [
    {
     "data": {
      "text/plain": [
       "86.0"
      ]
     },
     "execution_count": 35,
     "metadata": {},
     "output_type": "execute_result"
    }
   ],
   "source": [
    "fitness"
   ]
  },
  {
   "cell_type": "code",
   "execution_count": 36,
   "metadata": {},
   "outputs": [],
   "source": [
    "a = map(lambda x: x[0], history)"
   ]
  },
  {
   "cell_type": "code",
   "execution_count": 37,
   "metadata": {},
   "outputs": [],
   "source": [
    "b = list(a)"
   ]
  },
  {
   "cell_type": "code",
   "execution_count": 31,
   "metadata": {},
   "outputs": [],
   "source": [
    "import matplotlib.pyplot as plt"
   ]
  },
  {
   "cell_type": "code",
   "execution_count": 38,
   "metadata": {},
   "outputs": [
    {
     "data": {
      "text/plain": [
       "[<matplotlib.lines.Line2D at 0x28df30cdc60>]"
      ]
     },
     "execution_count": 38,
     "metadata": {},
     "output_type": "execute_result"
    },
    {
     "data": {
      "image/png": "[encoded data removed]",
      "text/plain": [
       "<Figure size 640x480 with 1 Axes>"
      ]
     },
     "metadata": {},
     "output_type": "display_data"
    }
   ],
   "source": [
    "plt.plot(b)"
   ]
  }
 ],
 "metadata": {
  "kernelspec": {
   "display_name": "Python 3",
   "language": "python",
   "name": "python3"
  },
  "language_info": {
   "codemirror_mode": {
    "name": "ipython",
    "version": 3
   },
   "file_extension": ".py",
   "mimetype": "text/x-python",
   "name": "python",
   "nbconvert_exporter": "python",
   "pygments_lexer": "ipython3",
   "version": "3.10.11"
  }
 },
 "nbformat": 4,
 "nbformat_minor": 2
}
